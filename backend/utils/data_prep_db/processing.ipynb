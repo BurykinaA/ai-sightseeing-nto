{
 "cells": [
  {
   "cell_type": "code",
   "execution_count": 2,
   "metadata": {},
   "outputs": [],
   "source": [
    "import pandas as pd"
   ]
  },
  {
   "cell_type": "code",
   "execution_count": 37,
   "metadata": {},
   "outputs": [],
   "source": [
    "ekb = pd.read_csv(r'D:\\ai-sightseeing-nto\\backend\\data\\EKB_places_with_description.csv')\n",
    "nn = pd.read_csv(r'D:\\ai-sightseeing-nto\\backend\\data\\NN_places_with_description.csv')\n",
    "vlad = pd.read_csv(r'D:\\ai-sightseeing-nto\\backend\\data\\Vladimir_places_with_description.csv')\n",
    "yar = pd.read_csv(r'D:\\ai-sightseeing-nto\\backend\\data\\Yaroslavl_places_with_description.csv')"
   ]
  },
  {
   "cell_type": "code",
   "execution_count": 42,
   "metadata": {},
   "outputs": [],
   "source": [
    "ekb = ekb.drop_duplicates(subset='Name', keep='first')\n",
    "nn = nn.drop_duplicates(subset='Name', keep='first')\n",
    "vlad = vlad.drop_duplicates(subset='Name', keep='first')\n",
    "yar = yar.drop_duplicates(subset='Name', keep='first')"
   ]
  },
  {
   "cell_type": "code",
   "execution_count": 7,
   "metadata": {},
   "outputs": [],
   "source": [
    "def make_global_indexes(prefix, df_places):\n",
    "    df_places = df_places.drop_duplicates(subset=['Name'])\n",
    "    df_places = df_places.reset_index(drop=True)\n",
    "    df_places['global_id'] = prefix + '_' + df_places.index.astype(str)\n",
    "    return df_places\n",
    "\n",
    "def make_local_index(prefix, df_images):\n",
    "    df_images = df_images.drop_duplicates(subset=['image'])\n",
    "    df_images = df_images.reset_index(drop=True)\n",
    "    df_images['local_id'] = prefix + '_' + df_images.index.astype(str)    \n",
    "    return df_images"
   ]
  },
  {
   "cell_type": "code",
   "execution_count": 14,
   "metadata": {},
   "outputs": [
    {
     "data": {
      "text/html": [
       "<div>\n",
       "<style scoped>\n",
       "    .dataframe tbody tr th:only-of-type {\n",
       "        vertical-align: middle;\n",
       "    }\n",
       "\n",
       "    .dataframe tbody tr th {\n",
       "        vertical-align: top;\n",
       "    }\n",
       "\n",
       "    .dataframe thead th {\n",
       "        text-align: right;\n",
       "    }\n",
       "</style>\n",
       "<table border=\"1\" class=\"dataframe\">\n",
       "  <thead>\n",
       "    <tr style=\"text-align: right;\">\n",
       "      <th></th>\n",
       "      <th>XID</th>\n",
       "      <th>Name</th>\n",
       "      <th>Kind</th>\n",
       "      <th>City</th>\n",
       "      <th>OSM</th>\n",
       "      <th>WikiData</th>\n",
       "      <th>Rate</th>\n",
       "      <th>Lon</th>\n",
       "      <th>Lat</th>\n",
       "      <th>description</th>\n",
       "      <th>global_id</th>\n",
       "    </tr>\n",
       "  </thead>\n",
       "  <tbody>\n",
       "    <tr>\n",
       "      <th>0</th>\n",
       "      <td>W38411380</td>\n",
       "      <td>Динамо</td>\n",
       "      <td>sport,architecture,historic_architecture,inter...</td>\n",
       "      <td>Екатеринбург</td>\n",
       "      <td>way/38411380</td>\n",
       "      <td>Q37996725</td>\n",
       "      <td>3h</td>\n",
       "      <td>60.600349</td>\n",
       "      <td>56.845398</td>\n",
       "      <td>спорткомплекс в Екатеринбурге</td>\n",
       "      <td>ekb_0</td>\n",
       "    </tr>\n",
       "    <tr>\n",
       "      <th>1</th>\n",
       "      <td>N2885181131</td>\n",
       "      <td>№32 Дом обороны</td>\n",
       "      <td>architecture,historic_architecture,interesting...</td>\n",
       "      <td>Екатеринбург</td>\n",
       "      <td>node/2885181131</td>\n",
       "      <td>Q55209768</td>\n",
       "      <td>3h</td>\n",
       "      <td>60.601315</td>\n",
       "      <td>56.834167</td>\n",
       "      <td>здание в Екатеринбурге</td>\n",
       "      <td>ekb_1</td>\n",
       "    </tr>\n",
       "    <tr>\n",
       "      <th>2</th>\n",
       "      <td>W38581890</td>\n",
       "      <td>Дом обороны</td>\n",
       "      <td>architecture,historic_architecture,interesting...</td>\n",
       "      <td>Екатеринбург</td>\n",
       "      <td>way/38581890</td>\n",
       "      <td>Q55209768</td>\n",
       "      <td>3h</td>\n",
       "      <td>60.602409</td>\n",
       "      <td>56.835133</td>\n",
       "      <td>здание в Екатеринбурге</td>\n",
       "      <td>ekb_2</td>\n",
       "    </tr>\n",
       "    <tr>\n",
       "      <th>3</th>\n",
       "      <td>N1930476141</td>\n",
       "      <td>№28 Здание городской электростанции «Луч»</td>\n",
       "      <td>architecture,historic_architecture,interesting...</td>\n",
       "      <td>Екатеринбург</td>\n",
       "      <td>node/1930476141</td>\n",
       "      <td>Q55154121</td>\n",
       "      <td>3h</td>\n",
       "      <td>60.607430</td>\n",
       "      <td>56.833691</td>\n",
       "      <td>NaN</td>\n",
       "      <td>ekb_3</td>\n",
       "    </tr>\n",
       "    <tr>\n",
       "      <th>4</th>\n",
       "      <td>N3002726097</td>\n",
       "      <td>№27 Дом Г.Н. Скрябина</td>\n",
       "      <td>architecture,historic_architecture,interesting...</td>\n",
       "      <td>Екатеринбург</td>\n",
       "      <td>node/3002726097</td>\n",
       "      <td>Q55232375</td>\n",
       "      <td>3h</td>\n",
       "      <td>60.607075</td>\n",
       "      <td>56.834225</td>\n",
       "      <td>NaN</td>\n",
       "      <td>ekb_4</td>\n",
       "    </tr>\n",
       "    <tr>\n",
       "      <th>...</th>\n",
       "      <td>...</td>\n",
       "      <td>...</td>\n",
       "      <td>...</td>\n",
       "      <td>...</td>\n",
       "      <td>...</td>\n",
       "      <td>...</td>\n",
       "      <td>...</td>\n",
       "      <td>...</td>\n",
       "      <td>...</td>\n",
       "      <td>...</td>\n",
       "      <td>...</td>\n",
       "    </tr>\n",
       "    <tr>\n",
       "      <th>92</th>\n",
       "      <td>Q4411412</td>\n",
       "      <td>Свято-Никольский храм (Екатеринбург)</td>\n",
       "      <td>religion,churches,interesting_places,other_chu...</td>\n",
       "      <td>Екатеринбург</td>\n",
       "      <td>NaN</td>\n",
       "      <td>Q4411412</td>\n",
       "      <td>3h</td>\n",
       "      <td>60.595821</td>\n",
       "      <td>56.826569</td>\n",
       "      <td>православный храм в Екатеринбурге</td>\n",
       "      <td>ekb_92</td>\n",
       "    </tr>\n",
       "    <tr>\n",
       "      <th>93</th>\n",
       "      <td>Q4504106</td>\n",
       "      <td>Центральная городская библиотека им. А. И. Гер...</td>\n",
       "      <td>historic_architecture,architecture,interesting...</td>\n",
       "      <td>Екатеринбург</td>\n",
       "      <td>NaN</td>\n",
       "      <td>Q4504106</td>\n",
       "      <td>3h</td>\n",
       "      <td>60.612167</td>\n",
       "      <td>56.821865</td>\n",
       "      <td>Библиотека в Екатеринбурге</td>\n",
       "      <td>ekb_93</td>\n",
       "    </tr>\n",
       "    <tr>\n",
       "      <th>94</th>\n",
       "      <td>Q28381390</td>\n",
       "      <td>Дом Гайдара</td>\n",
       "      <td>historic_architecture,architecture,interesting...</td>\n",
       "      <td>Екатеринбург</td>\n",
       "      <td>NaN</td>\n",
       "      <td>Q28381390</td>\n",
       "      <td>3h</td>\n",
       "      <td>60.591591</td>\n",
       "      <td>56.845341</td>\n",
       "      <td>NaN</td>\n",
       "      <td>ekb_94</td>\n",
       "    </tr>\n",
       "    <tr>\n",
       "      <th>95</th>\n",
       "      <td>Q50359307</td>\n",
       "      <td>Дом дворянки Е. О. Селивановой</td>\n",
       "      <td>other,unclassified_objects,interesting_places,...</td>\n",
       "      <td>Екатеринбург</td>\n",
       "      <td>NaN</td>\n",
       "      <td>Q50359307</td>\n",
       "      <td>3h</td>\n",
       "      <td>60.609085</td>\n",
       "      <td>56.840805</td>\n",
       "      <td>NaN</td>\n",
       "      <td>ekb_95</td>\n",
       "    </tr>\n",
       "    <tr>\n",
       "      <th>96</th>\n",
       "      <td>Q55210808</td>\n",
       "      <td>Дом связи (Екатеринбург)</td>\n",
       "      <td>historic_architecture,architecture,interesting...</td>\n",
       "      <td>Екатеринбург</td>\n",
       "      <td>NaN</td>\n",
       "      <td>Q55210808</td>\n",
       "      <td>3h</td>\n",
       "      <td>60.608856</td>\n",
       "      <td>56.839352</td>\n",
       "      <td>здание в Екатеринбурге</td>\n",
       "      <td>ekb_96</td>\n",
       "    </tr>\n",
       "  </tbody>\n",
       "</table>\n",
       "<p>97 rows × 11 columns</p>\n",
       "</div>"
      ],
      "text/plain": [
       "            XID                                               Name  \\\n",
       "0     W38411380                                             Динамо   \n",
       "1   N2885181131                                    №32 Дом обороны   \n",
       "2     W38581890                                        Дом обороны   \n",
       "3   N1930476141          №28 Здание городской электростанции «Луч»   \n",
       "4   N3002726097                              №27 Дом Г.Н. Скрябина   \n",
       "..          ...                                                ...   \n",
       "92     Q4411412               Свято-Никольский храм (Екатеринбург)   \n",
       "93     Q4504106  Центральная городская библиотека им. А. И. Гер...   \n",
       "94    Q28381390                                        Дом Гайдара   \n",
       "95    Q50359307                     Дом дворянки Е. О. Селивановой   \n",
       "96    Q55210808                           Дом связи (Екатеринбург)   \n",
       "\n",
       "                                                 Kind          City  \\\n",
       "0   sport,architecture,historic_architecture,inter...  Екатеринбург   \n",
       "1   architecture,historic_architecture,interesting...  Екатеринбург   \n",
       "2   architecture,historic_architecture,interesting...  Екатеринбург   \n",
       "3   architecture,historic_architecture,interesting...  Екатеринбург   \n",
       "4   architecture,historic_architecture,interesting...  Екатеринбург   \n",
       "..                                                ...           ...   \n",
       "92  religion,churches,interesting_places,other_chu...  Екатеринбург   \n",
       "93  historic_architecture,architecture,interesting...  Екатеринбург   \n",
       "94  historic_architecture,architecture,interesting...  Екатеринбург   \n",
       "95  other,unclassified_objects,interesting_places,...  Екатеринбург   \n",
       "96  historic_architecture,architecture,interesting...  Екатеринбург   \n",
       "\n",
       "                OSM   WikiData Rate        Lon        Lat  \\\n",
       "0      way/38411380  Q37996725   3h  60.600349  56.845398   \n",
       "1   node/2885181131  Q55209768   3h  60.601315  56.834167   \n",
       "2      way/38581890  Q55209768   3h  60.602409  56.835133   \n",
       "3   node/1930476141  Q55154121   3h  60.607430  56.833691   \n",
       "4   node/3002726097  Q55232375   3h  60.607075  56.834225   \n",
       "..              ...        ...  ...        ...        ...   \n",
       "92              NaN   Q4411412   3h  60.595821  56.826569   \n",
       "93              NaN   Q4504106   3h  60.612167  56.821865   \n",
       "94              NaN  Q28381390   3h  60.591591  56.845341   \n",
       "95              NaN  Q50359307   3h  60.609085  56.840805   \n",
       "96              NaN  Q55210808   3h  60.608856  56.839352   \n",
       "\n",
       "                          description global_id  \n",
       "0       спорткомплекс в Екатеринбурге     ekb_0  \n",
       "1              здание в Екатеринбурге     ekb_1  \n",
       "2              здание в Екатеринбурге     ekb_2  \n",
       "3                                 NaN     ekb_3  \n",
       "4                                 NaN     ekb_4  \n",
       "..                                ...       ...  \n",
       "92  православный храм в Екатеринбурге    ekb_92  \n",
       "93         Библиотека в Екатеринбурге    ekb_93  \n",
       "94                                NaN    ekb_94  \n",
       "95                                NaN    ekb_95  \n",
       "96             здание в Екатеринбурге    ekb_96  \n",
       "\n",
       "[97 rows x 11 columns]"
      ]
     },
     "execution_count": 14,
     "metadata": {},
     "output_type": "execute_result"
    }
   ],
   "source": [
    "ekb_places"
   ]
  },
  {
   "cell_type": "code",
   "execution_count": 15,
   "metadata": {},
   "outputs": [],
   "source": [
    "ekb_places = pd.read_csv(r'D:\\ai-sightseeing-nto\\backend\\data\\EKB_places_with_description.csv')\n",
    "ekb_images = pd.read_csv(r'D:\\ai-sightseeing-nto\\backend\\data\\EKB_images.csv')\n",
    "\n",
    "nn_places = pd.read_csv(r'D:\\ai-sightseeing-nto\\backend\\data\\NN_places_with_description.csv')\n",
    "nn_images = pd.read_csv(r'D:\\ai-sightseeing-nto\\backend\\data\\NN_images.csv')\n",
    "\n",
    "vladimir_places = pd.read_csv(r'D:\\ai-sightseeing-nto\\backend\\data\\Vladimir_places_with_description.csv')\n",
    "vladimir_images = pd.read_csv(r'D:\\ai-sightseeing-nto\\backend\\data\\Vladimir_images.csv')\n",
    "\n",
    "yaroslavl_places = pd.read_csv(r'D:\\ai-sightseeing-nto\\backend\\data\\Yaroslavl_places_with_description.csv')\n",
    "yaroslavl_images = pd.read_csv(r'D:\\ai-sightseeing-nto\\backend\\data\\Yaroslavl_images.csv')\n",
    "\n",
    "yaroslavl_images = yaroslavl_images.rename({'img': 'image'}, axis=1)\n",
    "\n",
    "def make_global_indexes(prefix, df_places):\n",
    "    df_places = df_places.drop_duplicates(subset=['Name'])\n",
    "    df_places = df_places.reset_index(drop=True)\n",
    "    df_places['global_id'] = prefix + '_' + df_places.index.astype(str)\n",
    "    return df_places\n",
    "\n",
    "def make_local_index(prefix, df_images):\n",
    "    df_images = df_images.drop_duplicates(subset=['image'])\n",
    "    df_images = df_images.reset_index(drop=True)\n",
    "    df_images['local_id'] = prefix + '_' + df_images.index.astype(str)    \n",
    "    return df_images\n",
    "\n",
    "# ekb\n",
    "ekb_places = make_global_indexes('ekb', ekb_places)\n",
    "ekb_images = make_local_index('ekb_local', ekb_images)\n",
    "full_ekb = pd.merge(ekb_places, ekb_images, left_on='Name', right_on='name')[['Name', 'Kind', 'City', 'Lon', 'Lat', 'global_id', 'image', 'local_id', 'Rate', 'description']]\n",
    "# nn\n",
    "nn_places = make_global_indexes('nn', nn_places)\n",
    "nn_images = make_local_index('nn_local', nn_images)\n",
    "full_nn = pd.merge(nn_places, nn_images, left_on='Name', right_on='name')[['Name', 'Kind', 'City', 'Lon', 'Lat', 'global_id', 'image', 'local_id', 'Rate', 'description']]\n",
    "# vladimir\n",
    "vladimir_places = make_global_indexes('vlad', vladimir_places)\n",
    "vladimir_images = make_local_index('v_local', vladimir_images)\n",
    "full_vladimir = pd.merge(vladimir_places, vladimir_images, left_on='Name', right_on='name')[['Name', 'Kind', 'City', 'Lon', 'Lat', 'global_id', 'image', 'local_id', 'Rate', 'description']]\n",
    "# yaroslavl\n",
    "yaroslavl_places = make_global_indexes('y', yaroslavl_places)\n",
    "yaroslavl_images = make_local_index('y_local', yaroslavl_images)\n",
    "full_yaroslavl = pd.merge(yaroslavl_places, yaroslavl_images, left_on='Name', right_on='name')[['Name', 'Kind', 'City', 'Lon', 'Lat', 'global_id', 'image', 'local_id', 'Rate', 'description']]\n",
    "\n",
    "full_df = pd.concat([full_ekb, full_nn, full_vladimir, full_yaroslavl])\n",
    "full_df = full_df.reset_index(drop=True)\n"
   ]
  },
  {
   "cell_type": "code",
   "execution_count": 53,
   "metadata": {},
   "outputs": [],
   "source": [
    "full_df[['global_id', 'local_id']].to_csv(r'D:\\ai-sightseeing-nto\\backend\\app\\models\\text2img\\weights\\id_conc.csv', index = False)"
   ]
  },
  {
   "cell_type": "code",
   "execution_count": 20,
   "metadata": {},
   "outputs": [],
   "source": [
    "full_df['Kind'] = full_df['Kind'].apply(replace_categories)"
   ]
  },
  {
   "cell_type": "code",
   "execution_count": 29,
   "metadata": {},
   "outputs": [],
   "source": [
    "final = full_df[['Name','Kind','City','Lon','Lat','global_id','Rate','description']].drop_duplicates().rename(columns={'global_id': 'id', 'Name': 'name', 'City':'city', 'Lon':'lon', 'Lat':'lat', 'Rate':'rate', 'Kind': 'type'})"
   ]
  },
  {
   "cell_type": "code",
   "execution_count": 47,
   "metadata": {},
   "outputs": [],
   "source": [
    "final = full_df[['global_id','image', 'local_id']].drop_duplicates().rename(columns={'global_id': 'id', 'image': 'base64'})"
   ]
  },
  {
   "cell_type": "code",
   "execution_count": 48,
   "metadata": {},
   "outputs": [],
   "source": [
    "counts = final['base64'].value_counts()\n",
    "duplicates = counts[counts > 1].index\n",
    "\n",
    "final = final[~final['base64'].isin(duplicates)]"
   ]
  },
  {
   "cell_type": "code",
   "execution_count": 49,
   "metadata": {},
   "outputs": [
    {
     "data": {
      "text/html": [
       "<div>\n",
       "<style scoped>\n",
       "    .dataframe tbody tr th:only-of-type {\n",
       "        vertical-align: middle;\n",
       "    }\n",
       "\n",
       "    .dataframe tbody tr th {\n",
       "        vertical-align: top;\n",
       "    }\n",
       "\n",
       "    .dataframe thead th {\n",
       "        text-align: right;\n",
       "    }\n",
       "</style>\n",
       "<table border=\"1\" class=\"dataframe\">\n",
       "  <thead>\n",
       "    <tr style=\"text-align: right;\">\n",
       "      <th></th>\n",
       "      <th>id</th>\n",
       "      <th>base64</th>\n",
       "      <th>local_id</th>\n",
       "    </tr>\n",
       "  </thead>\n",
       "  <tbody>\n",
       "    <tr>\n",
       "      <th>0</th>\n",
       "      <td>ekb_0</td>\n",
       "      <td>/9j/4AAQSkZJRgABAQAAAQABAAD/2wBDAAUEBAUEAwUFBA...</td>\n",
       "      <td>ekb_local_0</td>\n",
       "    </tr>\n",
       "    <tr>\n",
       "      <th>1</th>\n",
       "      <td>ekb_0</td>\n",
       "      <td>/9j/4AAQSkZJRgABAQAAAQABAAD/2wBDAAUEBAUEAwUFBA...</td>\n",
       "      <td>ekb_local_1</td>\n",
       "    </tr>\n",
       "    <tr>\n",
       "      <th>2</th>\n",
       "      <td>ekb_0</td>\n",
       "      <td>/9j/4AAQSkZJRgABAQAAAQABAAD/2wBDAAUEBAUEAwUFBA...</td>\n",
       "      <td>ekb_local_2</td>\n",
       "    </tr>\n",
       "    <tr>\n",
       "      <th>3</th>\n",
       "      <td>ekb_0</td>\n",
       "      <td>/9j/4AAQSkZJRgABAQAAAQABAAD/2wBDAAUEBAUEAwUFBA...</td>\n",
       "      <td>ekb_local_3</td>\n",
       "    </tr>\n",
       "    <tr>\n",
       "      <th>4</th>\n",
       "      <td>ekb_0</td>\n",
       "      <td>/9j/4AAQSkZJRgABAQAAAQABAAD/2wBDAAUEBAUEAwUFBA...</td>\n",
       "      <td>ekb_local_4</td>\n",
       "    </tr>\n",
       "    <tr>\n",
       "      <th>...</th>\n",
       "      <td>...</td>\n",
       "      <td>...</td>\n",
       "      <td>...</td>\n",
       "    </tr>\n",
       "    <tr>\n",
       "      <th>13281</th>\n",
       "      <td>y_99</td>\n",
       "      <td>/9j/4AAQSkZJRgABAQAAAQABAAD/2wBDAAUEBAUEAwUFBA...</td>\n",
       "      <td>y_local_645</td>\n",
       "    </tr>\n",
       "    <tr>\n",
       "      <th>13282</th>\n",
       "      <td>y_99</td>\n",
       "      <td>/9j/4AAQSkZJRgABAQAAAQABAAD/2wBDAAUEBAUEAwUFBA...</td>\n",
       "      <td>y_local_646</td>\n",
       "    </tr>\n",
       "    <tr>\n",
       "      <th>13283</th>\n",
       "      <td>y_99</td>\n",
       "      <td>/9j/4AAQSkZJRgABAQAAAQABAAD/2wBDAAUEBAUEAwUFBA...</td>\n",
       "      <td>y_local_647</td>\n",
       "    </tr>\n",
       "    <tr>\n",
       "      <th>13284</th>\n",
       "      <td>y_99</td>\n",
       "      <td>/9j/4AAQSkZJRgABAQAAAQABAAD/2wBDAAUEBAUEAwUFBA...</td>\n",
       "      <td>y_local_648</td>\n",
       "    </tr>\n",
       "    <tr>\n",
       "      <th>13285</th>\n",
       "      <td>y_99</td>\n",
       "      <td>/9j/4AAQSkZJRgABAQAAAQABAAD/2wBDAAUEBAUEAwUFBA...</td>\n",
       "      <td>y_local_649</td>\n",
       "    </tr>\n",
       "  </tbody>\n",
       "</table>\n",
       "<p>13276 rows × 3 columns</p>\n",
       "</div>"
      ],
      "text/plain": [
       "          id                                             base64     local_id\n",
       "0      ekb_0  /9j/4AAQSkZJRgABAQAAAQABAAD/2wBDAAUEBAUEAwUFBA...  ekb_local_0\n",
       "1      ekb_0  /9j/4AAQSkZJRgABAQAAAQABAAD/2wBDAAUEBAUEAwUFBA...  ekb_local_1\n",
       "2      ekb_0  /9j/4AAQSkZJRgABAQAAAQABAAD/2wBDAAUEBAUEAwUFBA...  ekb_local_2\n",
       "3      ekb_0  /9j/4AAQSkZJRgABAQAAAQABAAD/2wBDAAUEBAUEAwUFBA...  ekb_local_3\n",
       "4      ekb_0  /9j/4AAQSkZJRgABAQAAAQABAAD/2wBDAAUEBAUEAwUFBA...  ekb_local_4\n",
       "...      ...                                                ...          ...\n",
       "13281   y_99  /9j/4AAQSkZJRgABAQAAAQABAAD/2wBDAAUEBAUEAwUFBA...  y_local_645\n",
       "13282   y_99  /9j/4AAQSkZJRgABAQAAAQABAAD/2wBDAAUEBAUEAwUFBA...  y_local_646\n",
       "13283   y_99  /9j/4AAQSkZJRgABAQAAAQABAAD/2wBDAAUEBAUEAwUFBA...  y_local_647\n",
       "13284   y_99  /9j/4AAQSkZJRgABAQAAAQABAAD/2wBDAAUEBAUEAwUFBA...  y_local_648\n",
       "13285   y_99  /9j/4AAQSkZJRgABAQAAAQABAAD/2wBDAAUEBAUEAwUFBA...  y_local_649\n",
       "\n",
       "[13276 rows x 3 columns]"
      ]
     },
     "execution_count": 49,
     "metadata": {},
     "output_type": "execute_result"
    }
   ],
   "source": [
    "final"
   ]
  },
  {
   "cell_type": "code",
   "execution_count": 50,
   "metadata": {},
   "outputs": [
    {
     "data": {
      "text/plain": [
       "(13276,)"
      ]
     },
     "execution_count": 50,
     "metadata": {},
     "output_type": "execute_result"
    }
   ],
   "source": [
    "final['base64'].unique().shape"
   ]
  },
  {
   "cell_type": "code",
   "execution_count": 31,
   "metadata": {},
   "outputs": [],
   "source": [
    "final.to_csv(r'D:\\ai-sightseeing-nto\\backend\\data\\final_db.csv', index=False)"
   ]
  },
  {
   "cell_type": "code",
   "execution_count": 51,
   "metadata": {},
   "outputs": [],
   "source": [
    "final.to_csv(r'D:\\ai-sightseeing-nto\\backend\\app\\connection\\photo_obj_db.csv', index=False)"
   ]
  },
  {
   "cell_type": "markdown",
   "metadata": {},
   "source": [
    "### object"
   ]
  },
  {
   "cell_type": "code",
   "execution_count": 59,
   "metadata": {},
   "outputs": [],
   "source": [
    "col = ['XID', 'Name', 'City', 'Lon', 'Lat', 'Rate', 'description', 'Kind']\n",
    "final = pd.concat([ekb[col], nn[col], vlad[col], yar[col]])"
   ]
  },
  {
   "cell_type": "code",
   "execution_count": 60,
   "metadata": {},
   "outputs": [],
   "source": [
    "final = final.rename(columns={'XID': 'id', 'Name': 'name', 'City':'city', 'Lon':'lon', 'Lat':'lat', 'Rate':'rate', 'Kind': 'type'})"
   ]
  },
  {
   "cell_type": "code",
   "execution_count": 67,
   "metadata": {},
   "outputs": [
    {
     "data": {
      "text/plain": [
       "array(['3h', '3', '2', '1', '2h'], dtype=object)"
      ]
     },
     "execution_count": 67,
     "metadata": {},
     "output_type": "execute_result"
    }
   ],
   "source": [
    "final['rate'].unique()"
   ]
  },
  {
   "cell_type": "code",
   "execution_count": 25,
   "metadata": {},
   "outputs": [],
   "source": [
    "final.to_csv(r'D:\\ai-sightseeing-nto\\backend\\data\\final_db.csv')"
   ]
  },
  {
   "cell_type": "code",
   "execution_count": 43,
   "metadata": {},
   "outputs": [],
   "source": [
    "final.to_csv(r'D:\\ai-sightseeing-nto\\backend\\app\\connection\\photo_obj_db.csv', index=False)"
   ]
  },
  {
   "cell_type": "markdown",
   "metadata": {},
   "source": [
    "### kind"
   ]
  },
  {
   "cell_type": "code",
   "execution_count": 17,
   "metadata": {},
   "outputs": [],
   "source": [
    "category_groups = {\n",
    "    'Музеи и памятники': ['historic', 'military_museums', 'national_museums', 'biographical_museums', 'war_memorials', 'museums', 'history_museums', 'historic_settlements', 'archaeological_museums', 'historic_house_museums', 'science_museums', 'museums_of_science_and_technology', 'art_galleries', 'local_museums', 'other_technology_museums', 'children_museums', 'zoos', 'open_air_museums', 'installation'],\n",
    "    'Религиозные места': ['catholic_churches', 'eastern_orthodox_churches', 'churches', 'other_churches', 'cathedrals', 'mosques', 'other_temples'],\n",
    "    'Рестораны и еда': ['restaurants', 'foods'],\n",
    "    'Архитектурные объекты': ['historic_architecture', 'other_buildings_and_structures', 'castles', 'bridges', 'towers', 'fortified_towers', 'water_towers', 'fortifications', 'defensive_walls', 'historic_districts', 'other_towers', 'urban_environment','fountains', 'circuses', 'triumpal_archs', 'other_archaeological_sites'],\n",
    "    'Природные объекты': ['natural_monuments', 'mountain_peaks', 'geological_formations', 'rock_formations', 'nature_reserves', 'gardens_and_parks', 'zoos'],\n",
    "    'Спорт и развлечения': ['sport', 'concert_halls', 'cinemas', 'opera_houses', 'puppetries', 'stadiums', 'theatres_and_entertainments', 'circuses'],\n",
    "    'Финансовые и банковские учреждения': ['banks', 'bank'],\n",
    "    'Туристические объекты': ['tourist_facilities', 'tourist_object', 'railway_stations','squares'],\n",
    "    'Другие места': ['other', 'unclassified_objects', 'view_points', 'cemeteries']\n",
    "}\n"
   ]
  },
  {
   "cell_type": "code",
   "execution_count": 51,
   "metadata": {},
   "outputs": [],
   "source": [
    "col = ['Kind']\n",
    "final = pd.concat([ekb[col], nn[col], vlad[col], yar[col]])"
   ]
  },
  {
   "cell_type": "code",
   "execution_count": 18,
   "metadata": {},
   "outputs": [],
   "source": [
    "def replace_categories(string):\n",
    "    categories_list = string.split(',')\n",
    "    keys = []\n",
    "    for category in categories_list:\n",
    "        for key, value in category_groups.items():\n",
    "            if category.strip() in value:\n",
    "                keys.append(key)\n",
    "                break\n",
    "    return ', '.join(keys)\n",
    "\n",
    "# final['type'] = final['type']"
   ]
  },
  {
   "cell_type": "code",
   "execution_count": 105,
   "metadata": {},
   "outputs": [],
   "source": [
    "all_cat = []\n",
    "\n",
    "for i in range(len(final)):\n",
    "    all_cat.extend(final.iloc[i]['Kind'].split(','))\n",
    "\n",
    "all_cat_set = set(all_cat)\n"
   ]
  },
  {
   "cell_type": "code",
   "execution_count": 106,
   "metadata": {},
   "outputs": [],
   "source": [
    "kind_list = sorted(list(all_cat_set))\n",
    "id_list = range(1, len(kind_list) + 1)\n",
    "\n",
    "df = pd.DataFrame({'id': id_list, 'type': kind_list})"
   ]
  },
  {
   "cell_type": "code",
   "execution_count": 34,
   "metadata": {},
   "outputs": [],
   "source": [
    "df.to_csv(r'D:\\ai-sightseeing-nto\\backend\\app\\connection\\kind_db.csv', index=False)"
   ]
  },
  {
   "cell_type": "markdown",
   "metadata": {},
   "source": [
    "### kind obj"
   ]
  },
  {
   "cell_type": "code",
   "execution_count": 107,
   "metadata": {},
   "outputs": [
    {
     "data": {
      "text/html": [
       "<div>\n",
       "<style scoped>\n",
       "    .dataframe tbody tr th:only-of-type {\n",
       "        vertical-align: middle;\n",
       "    }\n",
       "\n",
       "    .dataframe tbody tr th {\n",
       "        vertical-align: top;\n",
       "    }\n",
       "\n",
       "    .dataframe thead th {\n",
       "        text-align: right;\n",
       "    }\n",
       "</style>\n",
       "<table border=\"1\" class=\"dataframe\">\n",
       "  <thead>\n",
       "    <tr style=\"text-align: right;\">\n",
       "      <th></th>\n",
       "      <th>id</th>\n",
       "      <th>type</th>\n",
       "    </tr>\n",
       "  </thead>\n",
       "  <tbody>\n",
       "    <tr>\n",
       "      <th>0</th>\n",
       "      <td>1</td>\n",
       "      <td>accomodations</td>\n",
       "    </tr>\n",
       "    <tr>\n",
       "      <th>1</th>\n",
       "      <td>2</td>\n",
       "      <td>archaeological_museums</td>\n",
       "    </tr>\n",
       "    <tr>\n",
       "      <th>2</th>\n",
       "      <td>3</td>\n",
       "      <td>archaeology</td>\n",
       "    </tr>\n",
       "    <tr>\n",
       "      <th>3</th>\n",
       "      <td>4</td>\n",
       "      <td>architecture</td>\n",
       "    </tr>\n",
       "    <tr>\n",
       "      <th>4</th>\n",
       "      <td>5</td>\n",
       "      <td>art_galleries</td>\n",
       "    </tr>\n",
       "    <tr>\n",
       "      <th>...</th>\n",
       "      <td>...</td>\n",
       "      <td>...</td>\n",
       "    </tr>\n",
       "    <tr>\n",
       "      <th>90</th>\n",
       "      <td>91</td>\n",
       "      <td>urban_environment</td>\n",
       "    </tr>\n",
       "    <tr>\n",
       "      <th>91</th>\n",
       "      <td>92</td>\n",
       "      <td>view_points</td>\n",
       "    </tr>\n",
       "    <tr>\n",
       "      <th>92</th>\n",
       "      <td>93</td>\n",
       "      <td>war_memorials</td>\n",
       "    </tr>\n",
       "    <tr>\n",
       "      <th>93</th>\n",
       "      <td>94</td>\n",
       "      <td>water_towers</td>\n",
       "    </tr>\n",
       "    <tr>\n",
       "      <th>94</th>\n",
       "      <td>95</td>\n",
       "      <td>zoos</td>\n",
       "    </tr>\n",
       "  </tbody>\n",
       "</table>\n",
       "<p>95 rows × 2 columns</p>\n",
       "</div>"
      ],
      "text/plain": [
       "    id                    type\n",
       "0    1           accomodations\n",
       "1    2  archaeological_museums\n",
       "2    3             archaeology\n",
       "3    4            architecture\n",
       "4    5           art_galleries\n",
       "..  ..                     ...\n",
       "90  91       urban_environment\n",
       "91  92             view_points\n",
       "92  93           war_memorials\n",
       "93  94            water_towers\n",
       "94  95                    zoos\n",
       "\n",
       "[95 rows x 2 columns]"
      ]
     },
     "execution_count": 107,
     "metadata": {},
     "output_type": "execute_result"
    }
   ],
   "source": [
    "df"
   ]
  },
  {
   "cell_type": "code",
   "execution_count": 113,
   "metadata": {},
   "outputs": [],
   "source": [
    "col = ['Kind', 'XID']\n",
    "final = pd.concat([ekb[col], nn[col], vlad[col], yar[col]])"
   ]
  },
  {
   "cell_type": "code",
   "execution_count": 114,
   "metadata": {},
   "outputs": [
    {
     "data": {
      "text/html": [
       "<div>\n",
       "<style scoped>\n",
       "    .dataframe tbody tr th:only-of-type {\n",
       "        vertical-align: middle;\n",
       "    }\n",
       "\n",
       "    .dataframe tbody tr th {\n",
       "        vertical-align: top;\n",
       "    }\n",
       "\n",
       "    .dataframe thead th {\n",
       "        text-align: right;\n",
       "    }\n",
       "</style>\n",
       "<table border=\"1\" class=\"dataframe\">\n",
       "  <thead>\n",
       "    <tr style=\"text-align: right;\">\n",
       "      <th></th>\n",
       "      <th>Kind</th>\n",
       "      <th>XID</th>\n",
       "    </tr>\n",
       "  </thead>\n",
       "  <tbody>\n",
       "    <tr>\n",
       "      <th>0</th>\n",
       "      <td>sport,architecture,historic_architecture,inter...</td>\n",
       "      <td>W38411380</td>\n",
       "    </tr>\n",
       "    <tr>\n",
       "      <th>1</th>\n",
       "      <td>architecture,historic_architecture,interesting...</td>\n",
       "      <td>N2885181131</td>\n",
       "    </tr>\n",
       "    <tr>\n",
       "      <th>2</th>\n",
       "      <td>architecture,historic_architecture,interesting...</td>\n",
       "      <td>W38581890</td>\n",
       "    </tr>\n",
       "    <tr>\n",
       "      <th>3</th>\n",
       "      <td>architecture,historic_architecture,interesting...</td>\n",
       "      <td>N1930476141</td>\n",
       "    </tr>\n",
       "    <tr>\n",
       "      <th>4</th>\n",
       "      <td>architecture,historic_architecture,interesting...</td>\n",
       "      <td>N3002726097</td>\n",
       "    </tr>\n",
       "    <tr>\n",
       "      <th>...</th>\n",
       "      <td>...</td>\n",
       "      <td>...</td>\n",
       "    </tr>\n",
       "    <tr>\n",
       "      <th>95</th>\n",
       "      <td>historic,archaeology,interesting_places,other_...</td>\n",
       "      <td>Q97161882</td>\n",
       "    </tr>\n",
       "    <tr>\n",
       "      <th>96</th>\n",
       "      <td>historic_architecture,architecture,interesting...</td>\n",
       "      <td>Q4091101</td>\n",
       "    </tr>\n",
       "    <tr>\n",
       "      <th>97</th>\n",
       "      <td>museums,cultural,science_museums,children_muse...</td>\n",
       "      <td>U3739</td>\n",
       "    </tr>\n",
       "    <tr>\n",
       "      <th>98</th>\n",
       "      <td>biographical_museums,museums,cultural,interest...</td>\n",
       "      <td>U3885</td>\n",
       "    </tr>\n",
       "    <tr>\n",
       "      <th>99</th>\n",
       "      <td>museums,cultural,interesting_places,local_muse...</td>\n",
       "      <td>U4106</td>\n",
       "    </tr>\n",
       "  </tbody>\n",
       "</table>\n",
       "<p>400 rows × 2 columns</p>\n",
       "</div>"
      ],
      "text/plain": [
       "                                                 Kind          XID\n",
       "0   sport,architecture,historic_architecture,inter...    W38411380\n",
       "1   architecture,historic_architecture,interesting...  N2885181131\n",
       "2   architecture,historic_architecture,interesting...    W38581890\n",
       "3   architecture,historic_architecture,interesting...  N1930476141\n",
       "4   architecture,historic_architecture,interesting...  N3002726097\n",
       "..                                                ...          ...\n",
       "95  historic,archaeology,interesting_places,other_...    Q97161882\n",
       "96  historic_architecture,architecture,interesting...     Q4091101\n",
       "97  museums,cultural,science_museums,children_muse...        U3739\n",
       "98  biographical_museums,museums,cultural,interest...        U3885\n",
       "99  museums,cultural,interesting_places,local_muse...        U4106\n",
       "\n",
       "[400 rows x 2 columns]"
      ]
     },
     "execution_count": 114,
     "metadata": {},
     "output_type": "execute_result"
    }
   ],
   "source": [
    "final"
   ]
  },
  {
   "cell_type": "code",
   "execution_count": 118,
   "metadata": {},
   "outputs": [],
   "source": [
    "df_exploded = final.assign(Kind=final['Kind'].str.split(',')).explode('Kind').rename(columns={'Kind': 'type'})"
   ]
  },
  {
   "cell_type": "code",
   "execution_count": 119,
   "metadata": {},
   "outputs": [
    {
     "data": {
      "text/html": [
       "<div>\n",
       "<style scoped>\n",
       "    .dataframe tbody tr th:only-of-type {\n",
       "        vertical-align: middle;\n",
       "    }\n",
       "\n",
       "    .dataframe tbody tr th {\n",
       "        vertical-align: top;\n",
       "    }\n",
       "\n",
       "    .dataframe thead th {\n",
       "        text-align: right;\n",
       "    }\n",
       "</style>\n",
       "<table border=\"1\" class=\"dataframe\">\n",
       "  <thead>\n",
       "    <tr style=\"text-align: right;\">\n",
       "      <th></th>\n",
       "      <th>type</th>\n",
       "      <th>XID</th>\n",
       "    </tr>\n",
       "  </thead>\n",
       "  <tbody>\n",
       "    <tr>\n",
       "      <th>0</th>\n",
       "      <td>sport</td>\n",
       "      <td>W38411380</td>\n",
       "    </tr>\n",
       "    <tr>\n",
       "      <th>0</th>\n",
       "      <td>architecture</td>\n",
       "      <td>W38411380</td>\n",
       "    </tr>\n",
       "    <tr>\n",
       "      <th>0</th>\n",
       "      <td>historic_architecture</td>\n",
       "      <td>W38411380</td>\n",
       "    </tr>\n",
       "    <tr>\n",
       "      <th>0</th>\n",
       "      <td>interesting_places</td>\n",
       "      <td>W38411380</td>\n",
       "    </tr>\n",
       "    <tr>\n",
       "      <th>0</th>\n",
       "      <td>stadiums</td>\n",
       "      <td>W38411380</td>\n",
       "    </tr>\n",
       "    <tr>\n",
       "      <th>...</th>\n",
       "      <td>...</td>\n",
       "      <td>...</td>\n",
       "    </tr>\n",
       "    <tr>\n",
       "      <th>99</th>\n",
       "      <td>museums</td>\n",
       "      <td>U4106</td>\n",
       "    </tr>\n",
       "    <tr>\n",
       "      <th>99</th>\n",
       "      <td>cultural</td>\n",
       "      <td>U4106</td>\n",
       "    </tr>\n",
       "    <tr>\n",
       "      <th>99</th>\n",
       "      <td>interesting_places</td>\n",
       "      <td>U4106</td>\n",
       "    </tr>\n",
       "    <tr>\n",
       "      <th>99</th>\n",
       "      <td>local_museums</td>\n",
       "      <td>U4106</td>\n",
       "    </tr>\n",
       "    <tr>\n",
       "      <th>99</th>\n",
       "      <td>art_galleries</td>\n",
       "      <td>U4106</td>\n",
       "    </tr>\n",
       "  </tbody>\n",
       "</table>\n",
       "<p>1803 rows × 2 columns</p>\n",
       "</div>"
      ],
      "text/plain": [
       "                     type        XID\n",
       "0                   sport  W38411380\n",
       "0            architecture  W38411380\n",
       "0   historic_architecture  W38411380\n",
       "0      interesting_places  W38411380\n",
       "0                stadiums  W38411380\n",
       "..                    ...        ...\n",
       "99                museums      U4106\n",
       "99               cultural      U4106\n",
       "99     interesting_places      U4106\n",
       "99          local_museums      U4106\n",
       "99          art_galleries      U4106\n",
       "\n",
       "[1803 rows x 2 columns]"
      ]
     },
     "execution_count": 119,
     "metadata": {},
     "output_type": "execute_result"
    }
   ],
   "source": [
    "df_exploded"
   ]
  },
  {
   "cell_type": "code",
   "execution_count": 122,
   "metadata": {},
   "outputs": [],
   "source": [
    "last = pd.merge(df_exploded, df, on = 'type')"
   ]
  },
  {
   "cell_type": "code",
   "execution_count": 123,
   "metadata": {},
   "outputs": [],
   "source": [
    "df_id_xid = pd.DataFrame({'id': range(len(last)), 'id_obj': last['XID'], 'id_kind':last['id']})"
   ]
  },
  {
   "cell_type": "code",
   "execution_count": 124,
   "metadata": {},
   "outputs": [],
   "source": [
    "df_id_xid.to_csv(r'D:\\ai-sightseeing-nto\\backend\\app\\connection\\obj_kind_db.csv', index=False)"
   ]
  },
  {
   "cell_type": "code",
   "execution_count": 125,
   "metadata": {},
   "outputs": [
    {
     "data": {
      "text/html": [
       "<div>\n",
       "<style scoped>\n",
       "    .dataframe tbody tr th:only-of-type {\n",
       "        vertical-align: middle;\n",
       "    }\n",
       "\n",
       "    .dataframe tbody tr th {\n",
       "        vertical-align: top;\n",
       "    }\n",
       "\n",
       "    .dataframe thead th {\n",
       "        text-align: right;\n",
       "    }\n",
       "</style>\n",
       "<table border=\"1\" class=\"dataframe\">\n",
       "  <thead>\n",
       "    <tr style=\"text-align: right;\">\n",
       "      <th></th>\n",
       "      <th>id</th>\n",
       "      <th>id_obj</th>\n",
       "      <th>id_kind</th>\n",
       "    </tr>\n",
       "  </thead>\n",
       "  <tbody>\n",
       "    <tr>\n",
       "      <th>0</th>\n",
       "      <td>0</td>\n",
       "      <td>W38411380</td>\n",
       "      <td>82</td>\n",
       "    </tr>\n",
       "    <tr>\n",
       "      <th>1</th>\n",
       "      <td>1</td>\n",
       "      <td>W587989335</td>\n",
       "      <td>82</td>\n",
       "    </tr>\n",
       "    <tr>\n",
       "      <th>2</th>\n",
       "      <td>2</td>\n",
       "      <td>R2767108</td>\n",
       "      <td>82</td>\n",
       "    </tr>\n",
       "    <tr>\n",
       "      <th>3</th>\n",
       "      <td>3</td>\n",
       "      <td>W38411380</td>\n",
       "      <td>4</td>\n",
       "    </tr>\n",
       "    <tr>\n",
       "      <th>4</th>\n",
       "      <td>4</td>\n",
       "      <td>N2885181131</td>\n",
       "      <td>4</td>\n",
       "    </tr>\n",
       "    <tr>\n",
       "      <th>...</th>\n",
       "      <td>...</td>\n",
       "      <td>...</td>\n",
       "      <td>...</td>\n",
       "    </tr>\n",
       "    <tr>\n",
       "      <th>1798</th>\n",
       "      <td>1798</td>\n",
       "      <td>W222984781</td>\n",
       "      <td>46</td>\n",
       "    </tr>\n",
       "    <tr>\n",
       "      <th>1799</th>\n",
       "      <td>1799</td>\n",
       "      <td>Q2494278</td>\n",
       "      <td>3</td>\n",
       "    </tr>\n",
       "    <tr>\n",
       "      <th>1800</th>\n",
       "      <td>1800</td>\n",
       "      <td>Q97161882</td>\n",
       "      <td>3</td>\n",
       "    </tr>\n",
       "    <tr>\n",
       "      <th>1801</th>\n",
       "      <td>1801</td>\n",
       "      <td>Q2494278</td>\n",
       "      <td>62</td>\n",
       "    </tr>\n",
       "    <tr>\n",
       "      <th>1802</th>\n",
       "      <td>1802</td>\n",
       "      <td>Q97161882</td>\n",
       "      <td>62</td>\n",
       "    </tr>\n",
       "  </tbody>\n",
       "</table>\n",
       "<p>1803 rows × 3 columns</p>\n",
       "</div>"
      ],
      "text/plain": [
       "        id       id_obj  id_kind\n",
       "0        0    W38411380       82\n",
       "1        1   W587989335       82\n",
       "2        2     R2767108       82\n",
       "3        3    W38411380        4\n",
       "4        4  N2885181131        4\n",
       "...    ...          ...      ...\n",
       "1798  1798   W222984781       46\n",
       "1799  1799     Q2494278        3\n",
       "1800  1800    Q97161882        3\n",
       "1801  1801     Q2494278       62\n",
       "1802  1802    Q97161882       62\n",
       "\n",
       "[1803 rows x 3 columns]"
      ]
     },
     "execution_count": 125,
     "metadata": {},
     "output_type": "execute_result"
    }
   ],
   "source": [
    "df_id_xid"
   ]
  },
  {
   "cell_type": "markdown",
   "metadata": {},
   "source": [
    "### photo"
   ]
  },
  {
   "cell_type": "code",
   "execution_count": null,
   "metadata": {},
   "outputs": [],
   "source": [
    "col = ['Kind']\n",
    "final = pd.concat([ekb[col], nn[col], vlad[col], yar[col]])"
   ]
  },
  {
   "cell_type": "code",
   "execution_count": 20,
   "metadata": {},
   "outputs": [],
   "source": [
    "ekbph = pd.read_csv(r'D:\\ai-sightseeing-nto\\backend\\data\\EKB_images.csv')\n",
    "nnph = pd.read_csv(r'D:\\ai-sightseeing-nto\\backend\\data\\NN_images.csv')\n",
    "vladph = pd.read_csv(r'D:\\ai-sightseeing-nto\\backend\\data\\Vladimir_images.csv')\n",
    "yarph = pd.read_csv(r'D:\\ai-sightseeing-nto\\backend\\data\\Yaroslavl_images.csv')"
   ]
  },
  {
   "cell_type": "code",
   "execution_count": 22,
   "metadata": {},
   "outputs": [],
   "source": [
    "ekbph = ekbph.drop_duplicates(subset = ['image'])\n",
    "nnph = nnph.drop_duplicates(subset = ['image'])\n",
    "vladph = vladph.drop_duplicates(subset = ['image'])\n",
    "yarph = yarph.drop_duplicates(subset = ['img'])\n",
    "\n",
    "ekb = ekb.drop_duplicates(subset = ['Name'])\n",
    "nn = nn.drop_duplicates(subset = ['Name'])\n",
    "vlad = vlad.drop_duplicates(subset = ['Name'])\n",
    "yar = yar.drop_duplicates(subset = ['Name'])\n",
    "\n",
    "yar.rename(columns={'img': 'image'}, inplace=True)\n"
   ]
  },
  {
   "cell_type": "code",
   "execution_count": 23,
   "metadata": {},
   "outputs": [],
   "source": [
    "ekb.rename(columns={'Name': 'name'}, inplace=True)\n",
    "ekbph = pd.merge(ekb, ekbph, on = 'name')\n",
    "\n",
    "nn.rename(columns={'Name': 'name'}, inplace=True)\n",
    "nnph = pd.merge(nn, nnph, on = 'name')\n",
    "\n",
    "vlad.rename(columns={'Name': 'name'}, inplace=True)\n",
    "vladph = pd.merge(vlad, vladph, on = 'name')\n",
    "\n",
    "yar.rename(columns={'Name': 'name'}, inplace=True)\n",
    "yarph = pd.merge(yar, yarph, on = 'name')"
   ]
  },
  {
   "cell_type": "code",
   "execution_count": 25,
   "metadata": {},
   "outputs": [],
   "source": [
    "yarph.rename(columns={'img': 'image'}, inplace=True)"
   ]
  },
  {
   "cell_type": "code",
   "execution_count": 26,
   "metadata": {},
   "outputs": [],
   "source": [
    "col = ['XID', 'image']\n",
    "df = pd.concat([ekbph[col], nnph[col], vladph[col], yarph[col]])"
   ]
  },
  {
   "cell_type": "code",
   "execution_count": 27,
   "metadata": {},
   "outputs": [],
   "source": [
    "df = df.drop_duplicates()\n",
    "df = df.rename(columns={'XID':'id_obj', 'image':'base64'})"
   ]
  },
  {
   "cell_type": "code",
   "execution_count": 33,
   "metadata": {},
   "outputs": [],
   "source": [
    "counts = df['base64'].value_counts()\n",
    "duplicates = counts[counts > 1].index\n",
    "\n",
    "df = df[~df['base64'].isin(duplicates)]\n"
   ]
  },
  {
   "cell_type": "code",
   "execution_count": 34,
   "metadata": {},
   "outputs": [
    {
     "data": {
      "text/html": [
       "<div>\n",
       "<style scoped>\n",
       "    .dataframe tbody tr th:only-of-type {\n",
       "        vertical-align: middle;\n",
       "    }\n",
       "\n",
       "    .dataframe tbody tr th {\n",
       "        vertical-align: top;\n",
       "    }\n",
       "\n",
       "    .dataframe thead th {\n",
       "        text-align: right;\n",
       "    }\n",
       "</style>\n",
       "<table border=\"1\" class=\"dataframe\">\n",
       "  <thead>\n",
       "    <tr style=\"text-align: right;\">\n",
       "      <th></th>\n",
       "      <th>id_obj</th>\n",
       "      <th>base64</th>\n",
       "    </tr>\n",
       "  </thead>\n",
       "  <tbody>\n",
       "    <tr>\n",
       "      <th>0</th>\n",
       "      <td>W38411380</td>\n",
       "      <td>/9j/4AAQSkZJRgABAQAAAQABAAD/2wBDAAUEBAUEAwUFBA...</td>\n",
       "    </tr>\n",
       "    <tr>\n",
       "      <th>1</th>\n",
       "      <td>W38411380</td>\n",
       "      <td>/9j/4AAQSkZJRgABAQAAAQABAAD/2wBDAAUEBAUEAwUFBA...</td>\n",
       "    </tr>\n",
       "    <tr>\n",
       "      <th>2</th>\n",
       "      <td>W38411380</td>\n",
       "      <td>/9j/4AAQSkZJRgABAQAAAQABAAD/2wBDAAUEBAUEAwUFBA...</td>\n",
       "    </tr>\n",
       "    <tr>\n",
       "      <th>3</th>\n",
       "      <td>W38411380</td>\n",
       "      <td>/9j/4AAQSkZJRgABAQAAAQABAAD/2wBDAAUEBAUEAwUFBA...</td>\n",
       "    </tr>\n",
       "    <tr>\n",
       "      <th>4</th>\n",
       "      <td>W38411380</td>\n",
       "      <td>/9j/4AAQSkZJRgABAQAAAQABAAD/2wBDAAUEBAUEAwUFBA...</td>\n",
       "    </tr>\n",
       "    <tr>\n",
       "      <th>...</th>\n",
       "      <td>...</td>\n",
       "      <td>...</td>\n",
       "    </tr>\n",
       "    <tr>\n",
       "      <th>3958</th>\n",
       "      <td>U4106</td>\n",
       "      <td>/9j/4AAQSkZJRgABAQAAAQABAAD/2wBDAAUEBAUEAwUFBA...</td>\n",
       "    </tr>\n",
       "    <tr>\n",
       "      <th>3959</th>\n",
       "      <td>U4106</td>\n",
       "      <td>/9j/4AAQSkZJRgABAQAAAQABAAD/2wBDAAUEBAUEAwUFBA...</td>\n",
       "    </tr>\n",
       "    <tr>\n",
       "      <th>3960</th>\n",
       "      <td>U4106</td>\n",
       "      <td>/9j/4AAQSkZJRgABAQAAAQABAAD/2wBDAAUEBAUEAwUFBA...</td>\n",
       "    </tr>\n",
       "    <tr>\n",
       "      <th>3961</th>\n",
       "      <td>U4106</td>\n",
       "      <td>/9j/4AAQSkZJRgABAQAAAQABAAD/2wBDAAUEBAUEAwUFBA...</td>\n",
       "    </tr>\n",
       "    <tr>\n",
       "      <th>3962</th>\n",
       "      <td>U4106</td>\n",
       "      <td>/9j/4AAQSkZJRgABAQAAAQABAAD/2wBDAAUEBAUEAwUFBA...</td>\n",
       "    </tr>\n",
       "  </tbody>\n",
       "</table>\n",
       "<p>13276 rows × 2 columns</p>\n",
       "</div>"
      ],
      "text/plain": [
       "         id_obj                                             base64\n",
       "0     W38411380  /9j/4AAQSkZJRgABAQAAAQABAAD/2wBDAAUEBAUEAwUFBA...\n",
       "1     W38411380  /9j/4AAQSkZJRgABAQAAAQABAAD/2wBDAAUEBAUEAwUFBA...\n",
       "2     W38411380  /9j/4AAQSkZJRgABAQAAAQABAAD/2wBDAAUEBAUEAwUFBA...\n",
       "3     W38411380  /9j/4AAQSkZJRgABAQAAAQABAAD/2wBDAAUEBAUEAwUFBA...\n",
       "4     W38411380  /9j/4AAQSkZJRgABAQAAAQABAAD/2wBDAAUEBAUEAwUFBA...\n",
       "...         ...                                                ...\n",
       "3958      U4106  /9j/4AAQSkZJRgABAQAAAQABAAD/2wBDAAUEBAUEAwUFBA...\n",
       "3959      U4106  /9j/4AAQSkZJRgABAQAAAQABAAD/2wBDAAUEBAUEAwUFBA...\n",
       "3960      U4106  /9j/4AAQSkZJRgABAQAAAQABAAD/2wBDAAUEBAUEAwUFBA...\n",
       "3961      U4106  /9j/4AAQSkZJRgABAQAAAQABAAD/2wBDAAUEBAUEAwUFBA...\n",
       "3962      U4106  /9j/4AAQSkZJRgABAQAAAQABAAD/2wBDAAUEBAUEAwUFBA...\n",
       "\n",
       "[13276 rows x 2 columns]"
      ]
     },
     "execution_count": 34,
     "metadata": {},
     "output_type": "execute_result"
    }
   ],
   "source": [
    "df"
   ]
  },
  {
   "cell_type": "code",
   "execution_count": 31,
   "metadata": {},
   "outputs": [
    {
     "data": {
      "text/plain": [
       "(13281,)"
      ]
     },
     "execution_count": 31,
     "metadata": {},
     "output_type": "execute_result"
    }
   ],
   "source": [
    "df['base64'].unique().shape"
   ]
  },
  {
   "cell_type": "code",
   "execution_count": 35,
   "metadata": {},
   "outputs": [],
   "source": [
    "df.to_csv(r'D:\\ai-sightseeing-nto\\backend\\app\\connection\\photo_obj_db.csv', index=False)"
   ]
  },
  {
   "cell_type": "code",
   "execution_count": 89,
   "metadata": {},
   "outputs": [],
   "source": [
    "df_id_xid = pd.DataFrame({'XID': df['XID'], 'base64': df['image']})\n",
    " \n",
    "df_id_image = pd.DataFrame({'id': range(len(list(set(df['image'].to_list())))), 'base64': list(set(df['image'].to_list()))})"
   ]
  },
  {
   "cell_type": "code",
   "execution_count": 91,
   "metadata": {},
   "outputs": [],
   "source": [
    "df_id_xid = pd.merge(df_id_xid, df_id_image, on = 'base64')"
   ]
  },
  {
   "cell_type": "code",
   "execution_count": 96,
   "metadata": {},
   "outputs": [],
   "source": [
    "df_id_xid = df_id_xid[['XID', 'id']].drop_duplicates()"
   ]
  },
  {
   "cell_type": "code",
   "execution_count": 97,
   "metadata": {},
   "outputs": [],
   "source": [
    "df_id_xid = pd.DataFrame({'id': range(len(df_id_xid)), 'id_obj': df_id_xid['XID'], 'id_photo':df_id_xid['id']})"
   ]
  },
  {
   "cell_type": "code",
   "execution_count": 98,
   "metadata": {},
   "outputs": [],
   "source": [
    "df_id_xid.to_csv(r'D:\\ai-sightseeing-nto\\backend\\app\\connection\\obj_photo_db.csv', index=False)"
   ]
  },
  {
   "cell_type": "code",
   "execution_count": 86,
   "metadata": {},
   "outputs": [],
   "source": [
    "df_id_image.to_csv(r'D:\\ai-sightseeing-nto\\backend\\app\\connection\\photo_db.csv', index=False)"
   ]
  },
  {
   "cell_type": "code",
   "execution_count": 90,
   "metadata": {},
   "outputs": [
    {
     "data": {
      "text/html": [
       "<div>\n",
       "<style scoped>\n",
       "    .dataframe tbody tr th:only-of-type {\n",
       "        vertical-align: middle;\n",
       "    }\n",
       "\n",
       "    .dataframe tbody tr th {\n",
       "        vertical-align: top;\n",
       "    }\n",
       "\n",
       "    .dataframe thead th {\n",
       "        text-align: right;\n",
       "    }\n",
       "</style>\n",
       "<table border=\"1\" class=\"dataframe\">\n",
       "  <thead>\n",
       "    <tr style=\"text-align: right;\">\n",
       "      <th></th>\n",
       "      <th>id</th>\n",
       "      <th>base64</th>\n",
       "    </tr>\n",
       "  </thead>\n",
       "  <tbody>\n",
       "    <tr>\n",
       "      <th>0</th>\n",
       "      <td>0</td>\n",
       "      <td>/9j/4AAQSkZJRgABAQAAAQABAAD/2wBDAAUEBAUEAwUFBA...</td>\n",
       "    </tr>\n",
       "    <tr>\n",
       "      <th>1</th>\n",
       "      <td>1</td>\n",
       "      <td>/9j/4AAQSkZJRgABAQAAAQABAAD/2wBDAAUEBAUEAwUFBA...</td>\n",
       "    </tr>\n",
       "    <tr>\n",
       "      <th>2</th>\n",
       "      <td>2</td>\n",
       "      <td>/9j/4AAQSkZJRgABAQAAAQABAAD/2wBDAAUEBAUEAwUFBA...</td>\n",
       "    </tr>\n",
       "    <tr>\n",
       "      <th>3</th>\n",
       "      <td>3</td>\n",
       "      <td>/9j/4AAQSkZJRgABAQAAAQABAAD/2wBDAAUEBAUEAwUFBA...</td>\n",
       "    </tr>\n",
       "    <tr>\n",
       "      <th>4</th>\n",
       "      <td>4</td>\n",
       "      <td>/9j/4AAQSkZJRgABAQAAAQABAAD/2wBDAAUEBAUEAwUFBA...</td>\n",
       "    </tr>\n",
       "    <tr>\n",
       "      <th>...</th>\n",
       "      <td>...</td>\n",
       "      <td>...</td>\n",
       "    </tr>\n",
       "    <tr>\n",
       "      <th>13276</th>\n",
       "      <td>13276</td>\n",
       "      <td>/9j/4AAQSkZJRgABAQAAAQABAAD/2wBDAAUEBAUEAwUFBA...</td>\n",
       "    </tr>\n",
       "    <tr>\n",
       "      <th>13277</th>\n",
       "      <td>13277</td>\n",
       "      <td>/9j/4AAQSkZJRgABAQAAAQABAAD/2wBDAAUEBAUEAwUFBA...</td>\n",
       "    </tr>\n",
       "    <tr>\n",
       "      <th>13278</th>\n",
       "      <td>13278</td>\n",
       "      <td>/9j/4AAQSkZJRgABAQAAAQABAAD/2wBDAAUEBAUEAwUFBA...</td>\n",
       "    </tr>\n",
       "    <tr>\n",
       "      <th>13279</th>\n",
       "      <td>13279</td>\n",
       "      <td>/9j/4AAQSkZJRgABAQAAAQABAAD/2wBDAAUEBAUEAwUFBA...</td>\n",
       "    </tr>\n",
       "    <tr>\n",
       "      <th>13280</th>\n",
       "      <td>13280</td>\n",
       "      <td>/9j/4AAQSkZJRgABAQAAAQABAAD/2wBDAAUEBAUEAwUFBA...</td>\n",
       "    </tr>\n",
       "  </tbody>\n",
       "</table>\n",
       "<p>13281 rows × 2 columns</p>\n",
       "</div>"
      ],
      "text/plain": [
       "          id                                             base64\n",
       "0          0  /9j/4AAQSkZJRgABAQAAAQABAAD/2wBDAAUEBAUEAwUFBA...\n",
       "1          1  /9j/4AAQSkZJRgABAQAAAQABAAD/2wBDAAUEBAUEAwUFBA...\n",
       "2          2  /9j/4AAQSkZJRgABAQAAAQABAAD/2wBDAAUEBAUEAwUFBA...\n",
       "3          3  /9j/4AAQSkZJRgABAQAAAQABAAD/2wBDAAUEBAUEAwUFBA...\n",
       "4          4  /9j/4AAQSkZJRgABAQAAAQABAAD/2wBDAAUEBAUEAwUFBA...\n",
       "...      ...                                                ...\n",
       "13276  13276  /9j/4AAQSkZJRgABAQAAAQABAAD/2wBDAAUEBAUEAwUFBA...\n",
       "13277  13277  /9j/4AAQSkZJRgABAQAAAQABAAD/2wBDAAUEBAUEAwUFBA...\n",
       "13278  13278  /9j/4AAQSkZJRgABAQAAAQABAAD/2wBDAAUEBAUEAwUFBA...\n",
       "13279  13279  /9j/4AAQSkZJRgABAQAAAQABAAD/2wBDAAUEBAUEAwUFBA...\n",
       "13280  13280  /9j/4AAQSkZJRgABAQAAAQABAAD/2wBDAAUEBAUEAwUFBA...\n",
       "\n",
       "[13281 rows x 2 columns]"
      ]
     },
     "execution_count": 90,
     "metadata": {},
     "output_type": "execute_result"
    }
   ],
   "source": [
    "df_id_image"
   ]
  },
  {
   "cell_type": "code",
   "execution_count": null,
   "metadata": {},
   "outputs": [],
   "source": []
  }
 ],
 "metadata": {
  "kernelspec": {
   "display_name": "base",
   "language": "python",
   "name": "python3"
  },
  "language_info": {
   "codemirror_mode": {
    "name": "ipython",
    "version": 3
   },
   "file_extension": ".py",
   "mimetype": "text/x-python",
   "name": "python",
   "nbconvert_exporter": "python",
   "pygments_lexer": "ipython3",
   "version": "3.10.9"
  }
 },
 "nbformat": 4,
 "nbformat_minor": 2
}
